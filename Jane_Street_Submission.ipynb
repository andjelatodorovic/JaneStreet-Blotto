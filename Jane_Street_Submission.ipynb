{
  "nbformat": 4,
  "nbformat_minor": 5,
  "metadata": {
    "kernelspec": {
      "display_name": "Python 3",
      "language": "python",
      "name": "python3"
    },
    "language_info": {
      "codemirror_mode": {
        "name": "ipython",
        "version": 3
      },
      "file_extension": ".py",
      "mimetype": "text/x-python",
      "name": "python",
      "nbconvert_exporter": "python",
      "pygments_lexer": "ipython3",
      "version": "3.8.5"
    },
    "colab": {
      "name": "Jane Street Submission.ipynb",
      "provenance": [],
      "include_colab_link": true
    },
    "accelerator": "TPU"
  },
  "cells": [
    {
      "cell_type": "markdown",
      "metadata": {
        "id": "view-in-github",
        "colab_type": "text"
      },
      "source": [
        "<a href=\"https://colab.research.google.com/github/andjelatodorovich/JaneStreet-Blotto/blob/main/Jane_Street_Submission.ipynb\" target=\"_parent\"><img src=\"https://colab.research.google.com/assets/colab-badge.svg\" alt=\"Open In Colab\"/></a>"
      ]
    },
    {
      "cell_type": "code",
      "metadata": {
        "id": "touched-upper"
      },
      "source": [
        "import random\n",
        "from random import randint\n",
        "import math\n",
        "\n",
        "#N represents number of generated samples\n",
        "N = 5000"
      ],
      "id": "touched-upper",
      "execution_count": 12,
      "outputs": []
    },
    {
      "cell_type": "code",
      "metadata": {
        "id": "nervous-court"
      },
      "source": [
        "#Generating a randomly chosen list of n nonnegative integers summing to total.Each such list is equally likely to occur.\n",
        "def sumToTotal(n, total):\n",
        "    rands = sorted(random.sample(range(0, total-1), n - 1))\n",
        "    return [a - b for a, b in zip(rands + [total], [0] + rands)]"
      ],
      "id": "nervous-court",
      "execution_count": 13,
      "outputs": []
    },
    {
      "cell_type": "code",
      "metadata": {
        "id": "settled-target"
      },
      "source": [
        "# Alternative way to generate a list of n nonnegative integers summing to total. Works even when n > total\n",
        "def sumToTotal2(n, total):   \n",
        "    lst = [0] * n;   \n",
        "    for i in range(total) : \n",
        "        lst[randint(0, total) % n] += 1; \n",
        "    lst.sort()\n",
        "    return lst"
      ],
      "id": "settled-target",
      "execution_count": 14,
      "outputs": []
    },
    {
      "cell_type": "code",
      "metadata": {
        "id": "modern-ready"
      },
      "source": [
        "def playersScore(player, opponent):\n",
        "    wins = []\n",
        "    losts = []\n",
        "    consecutiveWins = 0\n",
        "    consecutiveLoses = 0\n",
        "    for i in range(10):\n",
        "        if (consecutiveWins == 3):\n",
        "            return sum(wins) + sum(range(i+1, 11))\n",
        "        if (consecutiveLoses == 3):\n",
        "            return sum(wins)\n",
        "        if (player[i] > opponent[i]):\n",
        "            consecutiveWins += 1\n",
        "            consecutiveLoses = 0\n",
        "            wins.append(i+1)\n",
        "        elif (player[i] < opponent[i]):\n",
        "            losts.append(i+1)\n",
        "            consecutiveWins = 0\n",
        "            consecutiveLoses += 1\n",
        "        elif (player[i] == opponent[i]):\n",
        "            consecutiveWins = 0\n",
        "            consecutiveLoses = 0\n",
        "    return sum(wins)"
      ],
      "id": "modern-ready",
      "execution_count": 15,
      "outputs": []
    },
    {
      "cell_type": "code",
      "metadata": {
        "id": "excited-strand"
      },
      "source": [
        "def MonteCarlo():\n",
        "    samples = []\n",
        "    while (len(samples) < N):\n",
        "        samples.append(sumToTotal(10, 100))\n",
        "    \n",
        "    probs = []\n",
        "    \n",
        "    for i in range(N):\n",
        "        totalScores = 0\n",
        "        for j in range(N):\n",
        "            if (i != j):\n",
        "                totalScores += playersScore(samples[i], samples[j])\n",
        "        probs.append([samples[i], totalScores / (N - 1)])\n",
        "    probs.sort(key=lambda x: x[1])\n",
        "    return probs[-1]"
      ],
      "id": "excited-strand",
      "execution_count": 16,
      "outputs": []
    },
    {
      "cell_type": "code",
      "metadata": {
        "scrolled": true,
        "id": "acceptable-credit"
      },
      "source": [
        "optimalSolutions = []\n",
        "\n",
        "for i in range(100):\n",
        "    optimalSolutions.append(MonteCarlo())\n",
        "\n",
        "optimalSolutions.sort(key=lambda x:x[1])"
      ],
      "id": "acceptable-credit",
      "execution_count": 17,
      "outputs": []
    },
    {
      "cell_type": "code",
      "metadata": {
        "id": "parallel-fight",
        "colab": {
          "base_uri": "https://localhost:8080/",
          "height": 0
        },
        "outputId": "fc317a86-7843-4a9b-c120-44c30d8368f3"
      },
      "source": [
        "print(optimalSolutions[0])\n",
        "print(optimalSolutions[-1])"
      ],
      "id": "parallel-fight",
      "execution_count": 18,
      "outputs": [
        {
          "output_type": "stream",
          "text": [
            "[[6, 17, 25, 15, 15, 2, 12, 2, 3, 3], 46.27085417083417]\n",
            "[[9, 27, 27, 18, 9, 1, 1, 1, 5, 2], 48.86637327465493]\n"
          ],
          "name": "stdout"
        }
      ]
    },
    {
      "cell_type": "code",
      "metadata": {
        "id": "DhBksXP8u5OH"
      },
      "source": [
        "#Generating 100 samples of Strategy 1\n",
        "strategy1 = []\n",
        "for i in range(100):\n",
        "  s = sumToTotal(3, 100)\n",
        "  s.extend([0,0,0,0,0,0,0])\n",
        "  strategy1.append(s)"
      ],
      "id": "DhBksXP8u5OH",
      "execution_count": 19,
      "outputs": []
    },
    {
      "cell_type": "code",
      "metadata": {
        "id": "sM0KiUrZu9tr"
      },
      "source": [
        "#Generating 100 samples of Strategy 2\n",
        "strategy2 = []\n",
        "for i in range(100):\n",
        "  t = [0,0]\n",
        "  t.extend(sumToTotal(3, 100))\n",
        "  t.extend([0,0,0,0,0])\n",
        "  strategy2.append(t)"
      ],
      "id": "sM0KiUrZu9tr",
      "execution_count": 20,
      "outputs": []
    },
    {
      "cell_type": "code",
      "metadata": {
        "id": "unlike-quantity",
        "colab": {
          "base_uri": "https://localhost:8080/",
          "height": 0
        },
        "outputId": "69da5fcf-523c-4e37-a5e0-57c53f8197d5"
      },
      "source": [
        "#Battling the strategies against each other\n",
        "samples = []\n",
        "for solution in optimalSolutions:\n",
        "    samples.append(solution[0])\n",
        "samples.extend(strategy1)\n",
        "samples.extend(strategy2)\n",
        "probabs = []\n",
        "\n",
        "for i in range(len(samples)):\n",
        "    totalScores = 0\n",
        "    for j in range(len(samples)):\n",
        "        if (i != j):\n",
        "            totalScores += playersScore(samples[i], samples[j])\n",
        "    probabs.append([samples[i], totalScores / (len(samples) - 1)])\n",
        "    \n",
        "probabs.sort(key=lambda x: x[1])\n",
        "print(probabs[-1:])"
      ],
      "id": "unlike-quantity",
      "execution_count": 26,
      "outputs": [
        {
          "output_type": "stream",
          "text": [
            "[[[15, 28, 32, 11, 2, 1, 4, 2, 1, 4], 43.852842809364546]]\n"
          ],
          "name": "stdout"
        }
      ]
    },
    {
      "cell_type": "code",
      "metadata": {
        "id": "f6eH-zn0vDm7"
      },
      "source": [
        ""
      ],
      "id": "f6eH-zn0vDm7",
      "execution_count": null,
      "outputs": []
    }
  ]
}